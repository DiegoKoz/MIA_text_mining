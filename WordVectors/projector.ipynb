{
 "cells": [
  {
   "cell_type": "code",
   "execution_count": 38,
   "metadata": {},
   "outputs": [],
   "source": [
    "import pandas as pd\n",
    "from gensim.models import FastText\n",
    "from keras.preprocessing.text import Tokenizer,  text_to_word_sequence\n",
    "from sklearn.feature_extraction.text import CountVectorizer\n",
    "from nltk.corpus import stopwords\n",
    "from  sklearn.manifold import TSNE\n",
    "import os\n",
    "import tensorflow as tf\n",
    "import numpy as np\n",
    "import re\n",
    "from tensorflow.contrib.tensorboard.plugins import projector"
   ]
  },
  {
   "cell_type": "code",
   "execution_count": 22,
   "metadata": {},
   "outputs": [],
   "source": [
    "with open('../data/txt/texto_limpio.txt', 'r') as f:\n",
    "    text =f.readlines()\n",
    "    f.close() "
   ]
  },
  {
   "cell_type": "code",
   "execution_count": 2,
   "metadata": {},
   "outputs": [],
   "source": [
    "model = FastText.load_fasttext_format('fasttext_word_vectors_embeddings.bin')"
   ]
  },
  {
   "cell_type": "code",
   "execution_count": 41,
   "metadata": {},
   "outputs": [],
   "source": [
    "text= [re.sub('\\d+', '<NUM>', t) for t in text]"
   ]
  },
  {
   "cell_type": "code",
   "execution_count": 42,
   "metadata": {},
   "outputs": [],
   "source": [
    "cv= CountVectorizer(stop_words=stopwords.words('spanish'))\n",
    "\n",
    "vectorized_text = cv.fit_transform(text)\n",
    "\n",
    "sum_words = vectorized_text.sum(axis=0)\n",
    "words_freq = [(word, sum_words[0, idx]) for word, idx in cv.vocabulary_.items()]\n",
    "words_freq =sorted(words_freq, key = lambda x: x[1], reverse=True)\n",
    "\n",
    "top= list(map(lambda x: x[0],words_freq))[0:10000]\n",
    "\n"
   ]
  },
  {
   "cell_type": "code",
   "execution_count": 43,
   "metadata": {},
   "outputs": [],
   "source": [
    "embedding = np.array(list(map(lambda x: model.wv[x], top)))"
   ]
  },
  {
   "cell_type": "code",
   "execution_count": 45,
   "metadata": {},
   "outputs": [
    {
     "name": "stderr",
     "output_type": "stream",
     "text": [
      "/home/dkozlows/anaconda3/lib/python3.7/site-packages/tensorflow/python/client/session.py:1702: UserWarning: An interactive session is already active. This can cause out-of-memory errors in some cases. You must explicitly call `InteractiveSession.close()` to release resources held by the other session(s).\n",
      "  warnings.warn('An interactive session is already active. This can '\n"
     ]
    },
    {
     "data": {
      "text/plain": [
       "'log/model.ckpt'"
      ]
     },
     "execution_count": 45,
     "metadata": {},
     "output_type": "execute_result"
    }
   ],
   "source": [
    "\n",
    "\n",
    "# setup a TensorFlow session\n",
    "tf.reset_default_graph()\n",
    "sess = tf.InteractiveSession()\n",
    "X = tf.Variable([0.0], name='embedding')\n",
    "place = tf.placeholder(tf.float32, shape=embedding.shape)\n",
    "set_x = tf.assign(X, place, validate_shape=False)\n",
    "sess.run(tf.global_variables_initializer())\n",
    "sess.run(set_x, feed_dict={place: embedding})\n",
    "\n",
    "# write labels\n",
    "with open('log/metadata.tsv', 'w') as f:\n",
    "    for word in top:\n",
    "        f.write(word + '\\n')\n",
    "\n",
    "# create a TensorFlow summary writer\n",
    "summary_writer = tf.summary.FileWriter('log', sess.graph)\n",
    "config = projector.ProjectorConfig()\n",
    "embedding_conf = config.embeddings.add()\n",
    "embedding_conf.tensor_name = 'embedding:0'\n",
    "embedding_conf.metadata_path = os.path.join('metadata.tsv')\n",
    "projector.visualize_embeddings(summary_writer, config)\n",
    "\n",
    "# save the model\n",
    "saver = tf.train.Saver()\n",
    "saver.save(sess, os.path.join('log', \"model.ckpt\"))"
   ]
  }
 ],
 "metadata": {
  "kernelspec": {
   "display_name": "Python 3",
   "language": "python",
   "name": "python3"
  },
  "language_info": {
   "codemirror_mode": {
    "name": "ipython",
    "version": 3
   },
   "file_extension": ".py",
   "mimetype": "text/x-python",
   "name": "python",
   "nbconvert_exporter": "python",
   "pygments_lexer": "ipython3",
   "version": "3.7.1"
  }
 },
 "nbformat": 4,
 "nbformat_minor": 2
}
