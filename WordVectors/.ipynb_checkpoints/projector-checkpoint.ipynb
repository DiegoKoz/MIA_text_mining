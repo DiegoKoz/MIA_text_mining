{
 "cells": [
  {
   "cell_type": "code",
   "execution_count": 1,
   "metadata": {},
   "outputs": [
    {
     "name": "stderr",
     "output_type": "stream",
     "text": [
      "Using TensorFlow backend.\n"
     ]
    }
   ],
   "source": [
    "import pandas as pd\n",
    "from gensim.models import FastText\n",
    "from keras.preprocessing.text import Tokenizer,  text_to_word_sequence\n",
    "from sklearn.feature_extraction.text import CountVectorizer\n",
    "from nltk.corpus import stopwords\n",
    "from  sklearn.manifold import TSNE\n",
    "import os\n",
    "import tensorflow as tf\n",
    "import numpy as np\n",
    "import re\n",
    "from tensorflow.contrib.tensorboard.plugins import projector"
   ]
  },
  {
   "cell_type": "code",
   "execution_count": 2,
   "metadata": {},
   "outputs": [],
   "source": [
    "with open('../data/txt/texto_limpio.txt', 'r') as f:\n",
    "    text =f.readlines()\n",
    "    f.close() "
   ]
  },
  {
   "cell_type": "code",
   "execution_count": 10,
   "metadata": {},
   "outputs": [],
   "source": [
    "model = FastText.load_fasttext_format('fasttext_word_vectors_embeddings.bin')"
   ]
  },
  {
   "cell_type": "code",
   "execution_count": 3,
   "metadata": {},
   "outputs": [],
   "source": [
    "text= [re.sub('\\d+', '<NUM>', t) for t in text]"
   ]
  },
  {
   "cell_type": "code",
   "execution_count": 4,
   "metadata": {},
   "outputs": [],
   "source": [
    "cv= CountVectorizer(stop_words=stopwords.words('spanish'))\n",
    "\n",
    "vectorized_text = cv.fit_transform(text)\n",
    "\n",
    "sum_words = vectorized_text.sum(axis=0)\n",
    "words_freq = [(word, sum_words[0, idx]) for word, idx in cv.vocabulary_.items()]\n",
    "words_freq =sorted(words_freq, key = lambda x: x[1], reverse=True)\n",
    "\n",
    "# top= list(map(lambda x: x[0],words_freq))[0:10000]\n",
    "\n"
   ]
  },
  {
   "cell_type": "code",
   "execution_count": 7,
   "metadata": {},
   "outputs": [],
   "source": [
    "words_freq_df = pd.DataFrame(words_freq)\n",
    "\n",
    "words_freq_df.columns = ['label','freq']"
   ]
  },
  {
   "cell_type": "markdown",
   "metadata": {},
   "source": [
    "Uso la similitud dentro del embedding para eliminar todos los token residuales del html"
   ]
  },
  {
   "cell_type": "code",
   "execution_count": 53,
   "metadata": {},
   "outputs": [],
   "source": [
    "rm1 = [x[0] for x in model.wv.similar_by_word('font',topn=50)]\n",
    "rm2 = [x[0] for x in model.wv.similar_by_word('margin',topn=50)]\n",
    "rm3 = [x[0] for x in model.wv.similar_by_word('indexof',topn=50)]\n",
    "rm4 = [x[0] for x in model.wv.similar_by_word('pathname',topn=50)]\n",
    "rm5 = [x[0] for x in model.wv.similar_by_word('msofootnotereference',topn=50)]\n",
    "rm6 = [x[0] for x in model.wv.similar_by_word('align',topn=50)]\n",
    "rm7 = [x[0] for x in model.wv.similar_by_word('previous',topn=50)]\n",
    "rm8 = [x[0] for x in model.wv.similar_by_word('html',topn=50)]"
   ]
  },
  {
   "cell_type": "code",
   "execution_count": 55,
   "metadata": {},
   "outputs": [],
   "source": [
    "borrar = set(rm1).union(set(rm2)).union(set(rm3)).union(set(rm4)).union(set(rm5)).union(set(rm6)).union(set(rm7)).union(set(rm8))"
   ]
  },
  {
   "cell_type": "code",
   "execution_count": 56,
   "metadata": {},
   "outputs": [
    {
     "data": {
      "text/plain": [
       "173"
      ]
     },
     "execution_count": 56,
     "metadata": {},
     "output_type": "execute_result"
    }
   ],
   "source": [
    "len(borrar)"
   ]
  },
  {
   "cell_type": "code",
   "execution_count": 33,
   "metadata": {},
   "outputs": [],
   "source": [
    "words_freq_df = words_freq_df[~words_freq_df.label.isin(borrar)]"
   ]
  },
  {
   "cell_type": "code",
   "execution_count": 37,
   "metadata": {},
   "outputs": [],
   "source": [
    "top_df = words_freq_df[0:10000]"
   ]
  },
  {
   "cell_type": "code",
   "execution_count": 41,
   "metadata": {},
   "outputs": [],
   "source": [
    "top_df.to_csv('log/metadata.tsv',sep='\\t',header=True,index=False)\n",
    "# # write labels\n",
    "# with open('log/metadata.tsv', 'w') as f:\n",
    "#     for word in top:\n",
    "#         f.write(word + '\\n')\n"
   ]
  },
  {
   "cell_type": "code",
   "execution_count": 42,
   "metadata": {},
   "outputs": [],
   "source": [
    "embedding = np.array(list(map(lambda x: model.wv[x], top_df.label.values)))"
   ]
  },
  {
   "cell_type": "code",
   "execution_count": 43,
   "metadata": {},
   "outputs": [
    {
     "name": "stdout",
     "output_type": "stream",
     "text": [
      "WARNING:tensorflow:From /home/diego/anaconda3/lib/python3.7/site-packages/tensorflow/python/framework/op_def_library.py:263: colocate_with (from tensorflow.python.framework.ops) is deprecated and will be removed in a future version.\n",
      "Instructions for updating:\n",
      "Colocations handled automatically by placer.\n"
     ]
    },
    {
     "data": {
      "text/plain": [
       "'log/model.ckpt'"
      ]
     },
     "execution_count": 43,
     "metadata": {},
     "output_type": "execute_result"
    }
   ],
   "source": [
    "\n",
    "\n",
    "# setup a TensorFlow session\n",
    "tf.reset_default_graph()\n",
    "sess = tf.InteractiveSession()\n",
    "X = tf.Variable([0.0], name='embedding')\n",
    "place = tf.placeholder(tf.float32, shape=embedding.shape)\n",
    "set_x = tf.assign(X, place, validate_shape=False)\n",
    "sess.run(tf.global_variables_initializer())\n",
    "sess.run(set_x, feed_dict={place: embedding})\n",
    "\n",
    "# create a TensorFlow summary writer\n",
    "summary_writer = tf.summary.FileWriter('log', sess.graph)\n",
    "config = projector.ProjectorConfig()\n",
    "embedding_conf = config.embeddings.add()\n",
    "embedding_conf.tensor_name = 'embedding:0'\n",
    "embedding_conf.metadata_path = os.path.join('metadata.tsv')\n",
    "projector.visualize_embeddings(summary_writer, config)\n",
    "\n",
    "# save the model\n",
    "saver = tf.train.Saver()\n",
    "saver.save(sess, os.path.join('log', \"model.ckpt\"))"
   ]
  },
  {
   "cell_type": "code",
   "execution_count": 44,
   "metadata": {},
   "outputs": [],
   "source": [
    "embedding_df = pd.DataFrame(embedding)"
   ]
  },
  {
   "cell_type": "code",
   "execution_count": 45,
   "metadata": {},
   "outputs": [],
   "source": [
    "embedding_df.to_csv('tensors.tsv',sep='\\t',header=False,index=False)"
   ]
  }
 ],
 "metadata": {
  "kernelspec": {
   "display_name": "Python 3",
   "language": "python",
   "name": "python3"
  },
  "language_info": {
   "codemirror_mode": {
    "name": "ipython",
    "version": 3
   },
   "file_extension": ".py",
   "mimetype": "text/x-python",
   "name": "python",
   "nbconvert_exporter": "python",
   "pygments_lexer": "ipython3",
   "version": "3.7.1"
  }
 },
 "nbformat": 4,
 "nbformat_minor": 2
}
